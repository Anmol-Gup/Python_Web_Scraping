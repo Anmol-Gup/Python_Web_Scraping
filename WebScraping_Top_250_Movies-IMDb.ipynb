{
 "cells": [
  {
   "cell_type": "code",
   "execution_count": 3,
   "id": "05db5344",
   "metadata": {},
   "outputs": [],
   "source": [
    "import requests as req\n",
    "from bs4 import BeautifulSoup\n",
    "import pandas as pd"
   ]
  },
  {
   "cell_type": "markdown",
   "id": "0ca2eb08",
   "metadata": {},
   "source": [
    "# Get the HTML Content"
   ]
  },
  {
   "cell_type": "code",
   "execution_count": 7,
   "id": "0d3bc232",
   "metadata": {},
   "outputs": [],
   "source": [
    "url='https://www.imdb.com/chart/top'\n",
    "response=req.get(url)\n",
    "content=response.text\n",
    "#print(content)"
   ]
  },
  {
   "cell_type": "code",
   "execution_count": 59,
   "id": "4042caac",
   "metadata": {},
   "outputs": [],
   "source": [
    "soup=BeautifulSoup(content,'html.parser')\n",
    "#print(soup.prettify())"
   ]
  },
  {
   "cell_type": "code",
   "execution_count": 16,
   "id": "385dc17c",
   "metadata": {},
   "outputs": [
    {
     "data": {
      "text/plain": [
       "'Top 250 Movies - IMDb'"
      ]
     },
     "execution_count": 16,
     "metadata": {},
     "output_type": "execute_result"
    }
   ],
   "source": [
    "soup.title.string"
   ]
  },
  {
   "cell_type": "markdown",
   "id": "e8a1cacf",
   "metadata": {},
   "source": [
    "# Get movie title"
   ]
  },
  {
   "cell_type": "code",
   "execution_count": 75,
   "id": "e51be980",
   "metadata": {},
   "outputs": [],
   "source": [
    "movies={'name':[],'year':[],'rating':[]}\n",
    "\n",
    "for movie in soup.select('.titleColumn a'):\n",
    "    movies['name'].append(movie.get_text())"
   ]
  },
  {
   "cell_type": "markdown",
   "id": "0ebdef73",
   "metadata": {},
   "source": [
    "# Get rating"
   ]
  },
  {
   "cell_type": "code",
   "execution_count": 153,
   "id": "e177879c",
   "metadata": {},
   "outputs": [],
   "source": [
    "for rating in soup.select('.ratingColumn strong'):\n",
    "    movies['rating'].append(rating.get_text())"
   ]
  },
  {
   "cell_type": "markdown",
   "id": "a067338b",
   "metadata": {},
   "source": [
    "# Get Release Year"
   ]
  },
  {
   "cell_type": "code",
   "execution_count": 147,
   "id": "9c483878",
   "metadata": {},
   "outputs": [],
   "source": [
    "years=[]\n",
    "for year in soup.select('td.titleColumn span.secondaryInfo'):\n",
    "    years.append(year.get_text()[1:-1])\n",
    "    \n",
    "movies['year']=years\n",
    "#print(movies['year'])"
   ]
  },
  {
   "cell_type": "markdown",
   "id": "14aff66a",
   "metadata": {},
   "source": [
    "# Exporting to CSV"
   ]
  },
  {
   "cell_type": "code",
   "execution_count": 156,
   "id": "321fb514",
   "metadata": {},
   "outputs": [],
   "source": [
    "df=pd.DataFrame(movies)\n",
    "df.rename(columns = {'name':'Title','year':'Release Year', 'rating':'IMDb Rating'}, inplace = True)\n",
    "#df\n",
    "df.to_csv('IMDb Top 250 Movies',index=False)"
   ]
  },
  {
   "cell_type": "code",
   "execution_count": null,
   "id": "d973f20f",
   "metadata": {},
   "outputs": [],
   "source": []
  }
 ],
 "metadata": {
  "kernelspec": {
   "display_name": "Python 3 (ipykernel)",
   "language": "python",
   "name": "python3"
  },
  "language_info": {
   "codemirror_mode": {
    "name": "ipython",
    "version": 3
   },
   "file_extension": ".py",
   "mimetype": "text/x-python",
   "name": "python",
   "nbconvert_exporter": "python",
   "pygments_lexer": "ipython3",
   "version": "3.10.2"
  }
 },
 "nbformat": 4,
 "nbformat_minor": 5
}
