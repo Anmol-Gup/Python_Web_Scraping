{
 "cells": [
  {
   "cell_type": "markdown",
   "id": "bd9ee326",
   "metadata": {},
   "source": [
    "# Flipkart Mobiles "
   ]
  },
  {
   "cell_type": "code",
   "execution_count": 360,
   "id": "7efa6f77",
   "metadata": {},
   "outputs": [],
   "source": [
    "import requests as req\n",
    "import pandas as pd\n",
    "from bs4 import BeautifulSoup"
   ]
  },
  {
   "cell_type": "code",
   "execution_count": 364,
   "id": "74738fa7",
   "metadata": {
    "scrolled": false
   },
   "outputs": [
    {
     "data": {
      "text/plain": [
       "(984, 984, 984, 984)"
      ]
     },
     "execution_count": 364,
     "metadata": {},
     "output_type": "execute_result"
    }
   ],
   "source": [
    "mobile_name=[]\n",
    "reviews=[]\n",
    "prices=[]\n",
    "ratings=[]\n",
    "\n",
    "for i in range(1,338):\n",
    "    response=req.get('https://www.flipkart.com/search?q=mobile&otracker=search&otracker1=search&marketplace=FLIPKART&as-show=on&as=off&page='+str(i))\n",
    "    soup=BeautifulSoup(response.content,'html.parser')\n",
    "    \n",
    "    for mobile in soup.select('._4rR01T'):\n",
    "        mobile_name.append(mobile.text)\n",
    "\n",
    "    for review in soup.select('._13vcmD'):\n",
    "        reviews.append(review.next_sibling.text.split(' ')[0])\n",
    "            \n",
    "    for rating in soup.select('._1lRcqv ._3LWZlK'):\n",
    "        ratings.append(rating.text)\n",
    "\n",
    "    for price in soup.find_all('div',class_='_30jeq3 _1_WHN1'):\n",
    "        prices.append(price.text)\n",
    "\n",
    "len(mobile_name),len(ratings),len(reviews),len(prices)"
   ]
  },
  {
   "cell_type": "code",
   "execution_count": 365,
   "id": "eef11f8c",
   "metadata": {},
   "outputs": [
    {
     "data": {
      "text/html": [
       "<div>\n",
       "<style scoped>\n",
       "    .dataframe tbody tr th:only-of-type {\n",
       "        vertical-align: middle;\n",
       "    }\n",
       "\n",
       "    .dataframe tbody tr th {\n",
       "        vertical-align: top;\n",
       "    }\n",
       "\n",
       "    .dataframe thead th {\n",
       "        text-align: right;\n",
       "    }\n",
       "</style>\n",
       "<table border=\"1\" class=\"dataframe\">\n",
       "  <thead>\n",
       "    <tr style=\"text-align: right;\">\n",
       "      <th></th>\n",
       "      <th>name</th>\n",
       "      <th>ratings</th>\n",
       "      <th>reviews</th>\n",
       "      <th>price</th>\n",
       "    </tr>\n",
       "  </thead>\n",
       "  <tbody>\n",
       "    <tr>\n",
       "      <th>0</th>\n",
       "      <td>POCO C50 (Royal Blue, 32 GB)</td>\n",
       "      <td>4.2</td>\n",
       "      <td>1,622</td>\n",
       "      <td>₹5,749</td>\n",
       "    </tr>\n",
       "    <tr>\n",
       "      <th>1</th>\n",
       "      <td>POCO C51 (Royal Blue, 64 GB)</td>\n",
       "      <td>4.3</td>\n",
       "      <td>709</td>\n",
       "      <td>₹6,999</td>\n",
       "    </tr>\n",
       "    <tr>\n",
       "      <th>2</th>\n",
       "      <td>Infinix SMART 7 (Emerald Green, 64 GB)</td>\n",
       "      <td>4.3</td>\n",
       "      <td>1,924</td>\n",
       "      <td>₹7,299</td>\n",
       "    </tr>\n",
       "    <tr>\n",
       "      <th>3</th>\n",
       "      <td>Infinix SMART 7 (Azure Blue, 64 GB)</td>\n",
       "      <td>4.3</td>\n",
       "      <td>1,924</td>\n",
       "      <td>₹7,299</td>\n",
       "    </tr>\n",
       "    <tr>\n",
       "      <th>4</th>\n",
       "      <td>Infinix SMART 7 (Night Black, 64 GB)</td>\n",
       "      <td>4.3</td>\n",
       "      <td>1,924</td>\n",
       "      <td>₹7,299</td>\n",
       "    </tr>\n",
       "    <tr>\n",
       "      <th>...</th>\n",
       "      <td>...</td>\n",
       "      <td>...</td>\n",
       "      <td>...</td>\n",
       "      <td>...</td>\n",
       "    </tr>\n",
       "    <tr>\n",
       "      <th>979</th>\n",
       "      <td>POCO C3 (Lime Green, 32 GB)</td>\n",
       "      <td>4.3</td>\n",
       "      <td>26,551</td>\n",
       "      <td>₹9,999</td>\n",
       "    </tr>\n",
       "    <tr>\n",
       "      <th>980</th>\n",
       "      <td>MTR M2200</td>\n",
       "      <td>4.3</td>\n",
       "      <td>4</td>\n",
       "      <td>₹890</td>\n",
       "    </tr>\n",
       "    <tr>\n",
       "      <th>981</th>\n",
       "      <td>Easyfone Marvel</td>\n",
       "      <td>3.9</td>\n",
       "      <td>23</td>\n",
       "      <td>₹2,490</td>\n",
       "    </tr>\n",
       "    <tr>\n",
       "      <th>982</th>\n",
       "      <td>Tecno Spark Go 2022 (Iris Purple, 32 GB)</td>\n",
       "      <td>4.2</td>\n",
       "      <td>63</td>\n",
       "      <td>₹6,999</td>\n",
       "    </tr>\n",
       "    <tr>\n",
       "      <th>983</th>\n",
       "      <td>OPPO A15 (Dynamic Black, 32 GB)</td>\n",
       "      <td>4.3</td>\n",
       "      <td>122</td>\n",
       "      <td>₹9,490</td>\n",
       "    </tr>\n",
       "  </tbody>\n",
       "</table>\n",
       "<p>984 rows × 4 columns</p>\n",
       "</div>"
      ],
      "text/plain": [
       "                                         name ratings  reviews   price\n",
       "0                POCO C50 (Royal Blue, 32 GB)     4.2    1,622  ₹5,749\n",
       "1                POCO C51 (Royal Blue, 64 GB)     4.3      709  ₹6,999\n",
       "2      Infinix SMART 7 (Emerald Green, 64 GB)     4.3    1,924  ₹7,299\n",
       "3         Infinix SMART 7 (Azure Blue, 64 GB)     4.3    1,924  ₹7,299\n",
       "4        Infinix SMART 7 (Night Black, 64 GB)     4.3    1,924  ₹7,299\n",
       "..                                        ...     ...      ...     ...\n",
       "979               POCO C3 (Lime Green, 32 GB)     4.3   26,551  ₹9,999\n",
       "980                                 MTR M2200     4.3        4    ₹890\n",
       "981                           Easyfone Marvel     3.9       23  ₹2,490\n",
       "982  Tecno Spark Go 2022 (Iris Purple, 32 GB)     4.2       63  ₹6,999\n",
       "983           OPPO A15 (Dynamic Black, 32 GB)     4.3      122  ₹9,490\n",
       "\n",
       "[984 rows x 4 columns]"
      ]
     },
     "execution_count": 365,
     "metadata": {},
     "output_type": "execute_result"
    }
   ],
   "source": [
    "mobile_df=pd.DataFrame({'name':mobile_name,'ratings':ratings,'reviews':reviews,'price':prices})\n",
    "mobile_df"
   ]
  },
  {
   "cell_type": "code",
   "execution_count": null,
   "id": "6ed4ab77",
   "metadata": {},
   "outputs": [],
   "source": []
  }
 ],
 "metadata": {
  "kernelspec": {
   "display_name": "Python 3 (ipykernel)",
   "language": "python",
   "name": "python3"
  },
  "language_info": {
   "codemirror_mode": {
    "name": "ipython",
    "version": 3
   },
   "file_extension": ".py",
   "mimetype": "text/x-python",
   "name": "python",
   "nbconvert_exporter": "python",
   "pygments_lexer": "ipython3",
   "version": "3.10.2"
  }
 },
 "nbformat": 4,
 "nbformat_minor": 5
}
